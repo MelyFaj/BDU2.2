{
  "nbformat": 4,
  "nbformat_minor": 0,
  "metadata": {
    "colab": {
      "provenance": []
    },
    "kernelspec": {
      "name": "python3",
      "display_name": "Python 3"
    },
    "language_info": {
      "name": "python"
    }
  },
  "cells": [
    {
      "cell_type": "code",
      "source": [
        "print('a' , end=\"    \")\n",
        "print(\"a^2\" , end=\"    \")\n",
        "print(\"a^3\")\n",
        "for i in range(1,5):\n",
        "  x=i**2\n",
        "  y=x*i\n",
        "  print(i , end=\"    \")\n",
        "  print(x , end=\"    \")\n",
        "  print(y)"
      ],
      "metadata": {
        "colab": {
          "base_uri": "https://localhost:8080/"
        },
        "id": "UPIeWPFBwVCf",
        "outputId": "74b3bf08-d085-4459-eb18-9904d3e54598"
      },
      "execution_count": 11,
      "outputs": [
        {
          "output_type": "stream",
          "name": "stdout",
          "text": [
            "a    a^2    a^3\n",
            "1    1    1\n",
            "2    4    8\n",
            "3    9    27\n",
            "4    16    64\n"
          ]
        }
      ]
    }
  ]
}